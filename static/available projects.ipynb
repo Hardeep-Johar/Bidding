{
 "cells": [
  {
   "cell_type": "code",
   "execution_count": 6,
   "metadata": {},
   "outputs": [
    {
     "name": "stdout",
     "output_type": "stream",
     "text": [
      "AM 4\n",
      "AG 4\n",
      "AP1 4\n",
      "AP2 4\n",
      "AP3 4\n",
      "BC 4\n",
      "BM 4\n",
      "DL 4\n",
      "GY 4\n",
      "IB 4\n",
      "KW1 4\n",
      "KW2 4\n",
      "LC 4\n",
      "MS 4\n",
      "MU 4\n",
      "LE 4\n",
      "SP 4\n",
      "SS 4\n",
      "TD 4\n",
      "UB 4\n",
      "IB2 4\n"
     ]
    }
   ],
   "source": [
    "projects = dict()\n",
    "with open(\"project_ids.csv\") as f:\n",
    "    for line in f:\n",
    "        line = line.strip()\n",
    "        if line == 'PROJECT ID':\n",
    "            continue\n",
    "        projects[line] = 0\n",
    "projects['IB2'] = 0\n",
    "with open(\"allocs2021.csv\",'r') as f:\n",
    "    for line in f:\n",
    "        line = line.strip().split(',')\n",
    "        project = line[1]\n",
    "        try:\n",
    "            projects[project] +=1\n",
    "        except:\n",
    "            projects[project] = 1\n",
    "for proj in projects:\n",
    "    if projects[proj] < 4:\n",
    "        print(proj,4 - projects[proj])"
   ]
  },
  {
   "cell_type": "code",
   "execution_count": null,
   "metadata": {},
   "outputs": [],
   "source": []
  },
  {
   "cell_type": "code",
   "execution_count": null,
   "metadata": {},
   "outputs": [],
   "source": []
  }
 ],
 "metadata": {
  "kernelspec": {
   "display_name": "Python 3",
   "language": "python",
   "name": "python3"
  },
  "language_info": {
   "codemirror_mode": {
    "name": "ipython",
    "version": 3
   },
   "file_extension": ".py",
   "mimetype": "text/x-python",
   "name": "python",
   "nbconvert_exporter": "python",
   "pygments_lexer": "ipython3",
   "version": "3.8.3"
  }
 },
 "nbformat": 4,
 "nbformat_minor": 2
}
