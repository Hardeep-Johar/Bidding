{
 "cells": [
  {
   "cell_type": "code",
   "execution_count": 1,
   "id": "b1059606",
   "metadata": {},
   "outputs": [
    {
     "ename": "NameError",
     "evalue": "name 'projects' is not defined",
     "output_type": "error",
     "traceback": [
      "\u001b[0;31m---------------------------------------------------------------------------\u001b[0m",
      "\u001b[0;31mNameError\u001b[0m                                 Traceback (most recent call last)",
      "\u001b[0;32m/var/folders/lg/v_gznssd7vl7wgtr61rm_6340000gn/T/ipykernel_8580/3078828067.py\u001b[0m in \u001b[0;36m<module>\u001b[0;34m\u001b[0m\n\u001b[1;32m      1\u001b[0m \u001b[0mstudent_list\u001b[0m \u001b[0;34m=\u001b[0m \u001b[0mlist\u001b[0m\u001b[0;34m(\u001b[0m\u001b[0;34m)\u001b[0m\u001b[0;34m\u001b[0m\u001b[0;34m\u001b[0m\u001b[0m\n\u001b[1;32m      2\u001b[0m \u001b[0mproject_student_assignment\u001b[0m\u001b[0;34m=\u001b[0m\u001b[0mdict\u001b[0m\u001b[0;34m(\u001b[0m\u001b[0;34m)\u001b[0m\u001b[0;34m\u001b[0m\u001b[0;34m\u001b[0m\u001b[0m\n\u001b[0;32m----> 3\u001b[0;31m \u001b[0;32mfor\u001b[0m \u001b[0mproject\u001b[0m \u001b[0;32min\u001b[0m \u001b[0mprojects\u001b[0m\u001b[0;34m:\u001b[0m\u001b[0;34m\u001b[0m\u001b[0;34m\u001b[0m\u001b[0m\n\u001b[0m\u001b[1;32m      4\u001b[0m     \u001b[0mproject_student_assignment\u001b[0m\u001b[0;34m[\u001b[0m\u001b[0mproject\u001b[0m\u001b[0;34m]\u001b[0m \u001b[0;34m=\u001b[0m \u001b[0mlist\u001b[0m\u001b[0;34m(\u001b[0m\u001b[0;34m)\u001b[0m\u001b[0;34m\u001b[0m\u001b[0;34m\u001b[0m\u001b[0m\n\u001b[1;32m      5\u001b[0m \u001b[0;32mwith\u001b[0m \u001b[0mopen\u001b[0m\u001b[0;34m(\u001b[0m\u001b[0;34m\"static/users_spring_2023.csv\"\u001b[0m\u001b[0;34m)\u001b[0m \u001b[0;32mas\u001b[0m \u001b[0mf\u001b[0m\u001b[0;34m:\u001b[0m\u001b[0;34m\u001b[0m\u001b[0;34m\u001b[0m\u001b[0m\n",
      "\u001b[0;31mNameError\u001b[0m: name 'projects' is not defined"
     ]
    }
   ],
   "source": [
    "student_list = list()\n",
    "project_student_assignment=dict()\n",
    "for project in projects:\n",
    "    project_student_assignment[project] = list()\n",
    "with open(\"static/users_spring_2023.csv\") as f:\n",
    "    for line in f:\n",
    "        student_list.append(line.strip().split(\",\")[0])\n",
    "ass_students = list()\n",
    "projects = dict()\n",
    "with open(\"static/allocs_spring2023.csv\",'r') as f:\n",
    "    for line in f:\n",
    "        student = line.strip().split()[0]\n",
    "        ass_students.append(student)\n",
    "        project = line.strip().split()[1]\n",
    "        print(student,project)\n",
    "        try:\n",
    "            projects[project] += 1\n",
    "        except:\n",
    "            projects[project] = 1\n",
    "#print(projects)\n",
    "#print(len(ass_students))\n",
    "#sorted([(k,v) for k,v in projects.items()],key=lambda x:x[1])"
   ]
  },
  {
   "cell_type": "code",
   "execution_count": 56,
   "id": "85562a48",
   "metadata": {},
   "outputs": [
    {
     "data": {
      "text/plain": [
       "(101, 104)"
      ]
     },
     "execution_count": 56,
     "metadata": {},
     "output_type": "execute_result"
    }
   ],
   "source": [
    "hj = [\"P026A\",\"P026B\",\"P035A\",\"P035B\",\"P035C\",\"P052\",\"P031\",\"P042\",\"P040\",\n",
    "      \"P036\",\"P017\",\"P003\",\"P005\",\"P007\",\"P011\",\"P014\",\"P015\",\"P021\",\"P022\",\"P024\"]\n",
    "um = [\"P050A\",\"P050B\",\"P055\",\"P033A\",\"P033B\",\"P039\",\"P020\",\"P004\",\"P009A\",\n",
    "      \"P016\",\"P018\",\"P025A\",\"P025B\",\"P023\",\"P027\",\"P029\",\"P030\",\"P045\",\"P054\",\"P056\"]\n",
    "hj_total = 0\n",
    "um_total = 0\n",
    "for t in hj:\n",
    "    hj_total += projects[t]\n",
    "for u in um:\n",
    "    um_total += projects[u]\n",
    "hj_total,um_total"
   ]
  },
  {
   "cell_type": "code",
   "execution_count": 52,
   "id": "c6af66f4",
   "metadata": {},
   "outputs": [],
   "source": [
    "for p in projects:\n",
    "    if not p in hj and not p in um:\n",
    "        print(p)\n",
    "    if p in hj and p in um:\n",
    "        print(p)"
   ]
  },
  {
   "cell_type": "code",
   "execution_count": 44,
   "id": "e31830cf",
   "metadata": {},
   "outputs": [
    {
     "data": {
      "text/plain": [
       "['P003',\n",
       " 'P005',\n",
       " 'P007',\n",
       " 'P011',\n",
       " 'P014',\n",
       " 'P015',\n",
       " 'P017',\n",
       " 'P021',\n",
       " 'P022',\n",
       " 'P024',\n",
       " 'P026A',\n",
       " 'P026B',\n",
       " 'P031',\n",
       " 'P035A',\n",
       " 'P035B',\n",
       " 'P035C',\n",
       " 'P036',\n",
       " 'P040',\n",
       " 'P042',\n",
       " 'P052']"
      ]
     },
     "execution_count": 44,
     "metadata": {},
     "output_type": "execute_result"
    }
   ],
   "source": [
    "for a in "
   ]
  },
  {
   "cell_type": "code",
   "execution_count": 53,
   "id": "b05e3938",
   "metadata": {},
   "outputs": [
    {
     "data": {
      "text/plain": [
       "['P004',\n",
       " 'P009A',\n",
       " 'P016',\n",
       " 'P018',\n",
       " 'P020',\n",
       " 'P023',\n",
       " 'P025A',\n",
       " 'P025B',\n",
       " 'P027',\n",
       " 'P029',\n",
       " 'P030',\n",
       " 'P033A',\n",
       " 'P033B',\n",
       " 'P038',\n",
       " 'P039',\n",
       " 'P045',\n",
       " 'P050A',\n",
       " 'P050B',\n",
       " 'P054',\n",
       " 'P055',\n",
       " 'P056']"
      ]
     },
     "execution_count": 53,
     "metadata": {},
     "output_type": "execute_result"
    }
   ],
   "source": [
    "sorted(um)"
   ]
  },
  {
   "cell_type": "code",
   "execution_count": 57,
   "id": "a8afaf51",
   "metadata": {},
   "outputs": [],
   "source": [
    "section1 = list()\n",
    "section2 = list()\n",
    "with open(\"static/allocs2022E\",'r') as f:\n",
    "    for line in f:\n",
    "        clean = line.strip().split()\n",
    "        student = clean[0]\n",
    "        project = clean[1]\n",
    "        if project in hj:\n",
    "            section1.append(student)\n",
    "        else:\n",
    "            section2.append(student)"
   ]
  },
  {
   "cell_type": "code",
   "execution_count": 64,
   "id": "2a191acb",
   "metadata": {},
   "outputs": [],
   "source": [
    "s1_f = open(\"section1\",\"w\")\n",
    "s2_f = open(\"section2\",\"w\")\n",
    "for s in section1:\n",
    "    s1_f.write(s+\"\\n\")\n",
    "s1_f.close()\n",
    "for s in section2:\n",
    "    s2_f.write(s+\"\\n\")\n",
    "s2_f.close()"
   ]
  },
  {
   "cell_type": "code",
   "execution_count": 61,
   "id": "d4de1373",
   "metadata": {},
   "outputs": [
    {
     "data": {
      "text/plain": [
       "['yy3182',\n",
       " 'yd2615',\n",
       " 'wc2786',\n",
       " 'am5696',\n",
       " 'jl6058',\n",
       " 'zl2681',\n",
       " 'jl5749',\n",
       " 'zf2271',\n",
       " 'rs4205',\n",
       " 'xd2246',\n",
       " 'rz2562',\n",
       " 'kx2172',\n",
       " 'sw3592',\n",
       " 'ti2244',\n",
       " 'pl2809',\n",
       " 'hh2918',\n",
       " 'vwy2106',\n",
       " 'fw2377',\n",
       " 'abm2203',\n",
       " 'bd2627',\n",
       " 'yh3412',\n",
       " 'lt2673',\n",
       " 'ryl2114',\n",
       " 'cd3253',\n",
       " 'yz4139',\n",
       " 'yz4212',\n",
       " 'kq2159',\n",
       " 'kns2155',\n",
       " 'sz2958',\n",
       " 'yh3303',\n",
       " 'fx2183',\n",
       " 'yl4595',\n",
       " 'yh3413',\n",
       " 'aka2151',\n",
       " 'nt2610',\n",
       " 'ha2605',\n",
       " 'el3152',\n",
       " 'zs2529',\n",
       " 'xs2415',\n",
       " 'zx2370',\n",
       " 'rp3061',\n",
       " 'sh4187',\n",
       " 'qs2235',\n",
       " 'zc2614',\n",
       " 'cg3280',\n",
       " 'yh3402',\n",
       " 'xf2232',\n",
       " 'yg2822',\n",
       " 'bs3358',\n",
       " 'na2937',\n",
       " 'ncg2135',\n",
       " 'cyc2159',\n",
       " 'hz2758',\n",
       " 'zb2246',\n",
       " 'yw3735',\n",
       " 'dc3591',\n",
       " 'rs4199',\n",
       " 'ym2863',\n",
       " 'ebs2195',\n",
       " 'sl4380',\n",
       " 'zz2898',\n",
       " 'ys3488',\n",
       " 'ar4279',\n",
       " 'zw2777',\n",
       " 'sj3136',\n",
       " 'aay2120',\n",
       " 'kg2962',\n",
       " 'lg3183',\n",
       " 'kz2403',\n",
       " 'yz4198',\n",
       " 'xp2194',\n",
       " 'yw3798',\n",
       " 'rs4216',\n",
       " 'xw2820',\n",
       " 'anp2160',\n",
       " 'yy3186',\n",
       " 'ww2616',\n",
       " 'cy2629',\n",
       " 'zl2951',\n",
       " 'rc3417',\n",
       " 'sw3612',\n",
       " 'yd2546',\n",
       " 'yh3406',\n",
       " 'mc5103',\n",
       " 'sx2307',\n",
       " 'pn2378',\n",
       " 'tc3151',\n",
       " 'yy3174',\n",
       " 'yl4921',\n",
       " 'fa2603',\n",
       " 'kg2965',\n",
       " 'yy2860',\n",
       " 'hlk2131',\n",
       " 'tl3101',\n",
       " 'yg2816',\n",
       " 'aa4820',\n",
       " 'gm2997',\n",
       " 'xl3137',\n",
       " 'xl3137',\n",
       " 'zl3124',\n",
       " 'md4029',\n",
       " 'ss6371',\n",
       " 'xq2218',\n",
       " 'yb2498']"
      ]
     },
     "execution_count": 61,
     "metadata": {},
     "output_type": "execute_result"
    }
   ],
   "source": [
    "section2\n"
   ]
  },
  {
   "cell_type": "code",
   "execution_count": 100,
   "id": "4e7c2709",
   "metadata": {},
   "outputs": [
    {
     "data": {
      "text/plain": [
       "False"
      ]
     },
     "execution_count": 100,
     "metadata": {},
     "output_type": "execute_result"
    }
   ],
   "source": [
    "\"kfa2118\" in section2"
   ]
  },
  {
   "cell_type": "code",
   "execution_count": 114,
   "id": "b9bf26af",
   "metadata": {},
   "outputs": [
    {
     "data": {
      "text/plain": [
       "('Andy L', 'Chen', 'ac4952')"
      ]
     },
     "execution_count": 114,
     "metadata": {},
     "output_type": "execute_result"
    }
   ],
   "source": []
  },
  {
   "cell_type": "code",
   "execution_count": 3,
   "id": "77d1d0d8",
   "metadata": {},
   "outputs": [
    {
     "ename": "NameError",
     "evalue": "name 'projects' is not defined",
     "output_type": "error",
     "traceback": [
      "\u001b[0;31m---------------------------------------------------------------------------\u001b[0m",
      "\u001b[0;31mNameError\u001b[0m                                 Traceback (most recent call last)",
      "\u001b[0;32m/var/folders/lg/v_gznssd7vl7wgtr61rm_6340000gn/T/ipykernel_8580/345971782.py\u001b[0m in \u001b[0;36m<module>\u001b[0;34m\u001b[0m\n\u001b[1;32m      1\u001b[0m \u001b[0mproject_student_assignment\u001b[0m\u001b[0;34m=\u001b[0m\u001b[0mdict\u001b[0m\u001b[0;34m(\u001b[0m\u001b[0;34m)\u001b[0m\u001b[0;34m\u001b[0m\u001b[0;34m\u001b[0m\u001b[0m\n\u001b[0;32m----> 2\u001b[0;31m \u001b[0;32mfor\u001b[0m \u001b[0mproject\u001b[0m \u001b[0;32min\u001b[0m \u001b[0mprojects\u001b[0m\u001b[0;34m:\u001b[0m\u001b[0;34m\u001b[0m\u001b[0;34m\u001b[0m\u001b[0m\n\u001b[0m\u001b[1;32m      3\u001b[0m     \u001b[0mproject_student_assignment\u001b[0m\u001b[0;34m[\u001b[0m\u001b[0mproject\u001b[0m\u001b[0;34m]\u001b[0m \u001b[0;34m=\u001b[0m \u001b[0mlist\u001b[0m\u001b[0;34m(\u001b[0m\u001b[0;34m)\u001b[0m\u001b[0;34m\u001b[0m\u001b[0;34m\u001b[0m\u001b[0m\n\u001b[1;32m      4\u001b[0m \u001b[0;34m\u001b[0m\u001b[0m\n\u001b[1;32m      5\u001b[0m \u001b[0mstudent_dict\u001b[0m \u001b[0;34m=\u001b[0m \u001b[0mdict\u001b[0m\u001b[0;34m(\u001b[0m\u001b[0;34m)\u001b[0m\u001b[0;34m\u001b[0m\u001b[0;34m\u001b[0m\u001b[0m\n",
      "\u001b[0;31mNameError\u001b[0m: name 'projects' is not defined"
     ]
    }
   ],
   "source": [
    "project_student_assignment=dict()\n",
    "for project in projects:\n",
    "    project_student_assignment[project] = list()\n",
    "\n",
    "student_dict = dict()\n",
    "for student in st_list:\n",
    "    student_dict[student[2]] = [student]\n",
    "student_dict\n",
    "\n",
    "with open(\"static/allocs_spring2023_final.csv\",'r') as f:\n",
    "    for line in f:\n",
    "        student = line.strip().split()[0]\n",
    "        project = line.strip().split()[1]\n",
    "        if project in hj and not student == \"yc4038\":\n",
    "            project_student_assignment[project].append((student_dict[student]))\n"
   ]
  },
  {
   "cell_type": "code",
   "execution_count": 130,
   "id": "f3ae9895",
   "metadata": {},
   "outputs": [
    {
     "data": {
      "text/plain": [
       "100"
      ]
     },
     "execution_count": 130,
     "metadata": {},
     "output_type": "execute_result"
    }
   ],
   "source": [
    "len(student_dict)"
   ]
  },
  {
   "cell_type": "code",
   "execution_count": 134,
   "id": "51a60600",
   "metadata": {},
   "outputs": [
    {
     "data": {
      "text/plain": [
       "{'P003': [[('Shuning', 'Yang', 'sy3018', 'P003')],\n",
       "  [('Tian', 'Dai', 'td2702', 'P003')],\n",
       "  [('Zeyu', 'Wang', 'zw2775', 'P003')],\n",
       "  [('Zhensheng', 'Xu', 'zx2367', 'P003')],\n",
       "  [('Demetra', 'Mallios', 'dm3689', 'P003')]],\n",
       " 'P005': [[('Yifan', 'Wang', 'yw3242', 'P005')],\n",
       "  [('Guo Xuan', 'Wong', 'gw2439', 'P005')],\n",
       "  [('Kennis', 'Kong', 'kk3513', 'P005')],\n",
       "  [('Harish', 'Vatsen', 'hv2228', 'P005')],\n",
       "  [('Bohan', 'Ma', 'bm2972', 'P005')],\n",
       "  [('Shane', 'Reid', 'sr3848', 'P005')]],\n",
       " 'P007': [[('Richard', 'Vrioni', 'rv2460', 'P007')]],\n",
       " 'P011': [[('Liangyu', 'Pan', 'lp2932', 'P011')],\n",
       "  [('Jianzhi', 'Guo', 'jg4404', 'P011')],\n",
       "  [('Wenwen', 'Wang', 'ww2617', 'P011')],\n",
       "  [('Ziyi', 'Liu', 'zl3110', 'P011')],\n",
       "  [('Varun', 'Jadcherla', 'vrj2110', 'P011')],\n",
       "  [('Faye', 'Ho', 'fh2422', 'P011')]],\n",
       " 'P014': [[('Yu', 'Gu', 'yg2831', 'P014')],\n",
       "  [('Yasmina', 'Noueihed', 'yan2104', 'P014')],\n",
       "  [('Ge', 'Gao', 'gg2797', 'P014')],\n",
       "  [('Yue', 'Zou', 'yz4200', 'P014')],\n",
       "  [('Yutian', 'Qiu', 'yq2334', 'P014')]],\n",
       " 'P015': [[('Sophia', 'Nikhar', 'sn2949', 'P015')],\n",
       "  [('Kate', 'Wang', 'kzw2106', 'P015')],\n",
       "  [('I-Chiao', 'Hu', 'ih2382', 'P015')],\n",
       "  [('Hanrui', 'Yu', 'hy2716', 'P015')],\n",
       "  [('Chenxi', 'Su', 'cs4096', 'P015')]],\n",
       " 'P017': [[('Yiyao', 'Qu', 'yq2331', 'P017')],\n",
       "  [('Mary', 'Kiangi', 'mdk2170', 'P017')],\n",
       "  [('Hemin', 'Tan', 'ht2571', 'P017')],\n",
       "  [('Sai', 'Zheng', 'sz3026', 'P017')],\n",
       "  [('Manting', 'Xiong', 'mx2259', 'P017')],\n",
       "  [('Yuxin', 'He', 'yh3408', 'P017')]],\n",
       " 'P021': [[('Khalid', 'Alsugair', 'kfa2118', 'P021')],\n",
       "  [('Francesca', 'McWilliams', 'fsm2128', 'P021')],\n",
       "  [('Andy L', 'Chen', 'ac4952', 'P021')],\n",
       "  [('Victoria', 'Gonzalez', 'veg2114', 'P021')],\n",
       "  [('Georgios', 'Andreadis', 'ga2575', 'P021')]],\n",
       " 'P022': [[('Ojesvi Chandrsekharendra', 'Kanumuri', 'ok2316', 'P022')],\n",
       "  [('Domitille', 'Labaye', 'dbl2134', 'P022')],\n",
       "  [('Alexandrea', 'Jee', 'amj2210', 'P022')],\n",
       "  [('Muhammad Usman', 'Hamid', 'mh4197', 'P022')],\n",
       "  [('Nour', 'Almusa', 'na2935', 'P022')]],\n",
       " 'P024': [[('Linfeng', 'Xu', 'lx2287', 'P024')],\n",
       "  [('Qiming', 'Feng', 'qf2155', 'P024')],\n",
       "  [('Yi', 'Xiao', 'yx2530', 'P024')],\n",
       "  [('Yiyang', 'Luo', 'yl4844', 'P024')],\n",
       "  [('Han', 'Xiao', 'hx2322', 'P024')]],\n",
       " 'P026A': [[('Yiwen', 'Zhang', 'yz4153', 'P026A')],\n",
       "  [('Jingjing', 'Cui', 'jc5625', 'P026A')],\n",
       "  [('Jiarun', 'Liu', 'jl5817', 'P026A')],\n",
       "  [('Yifei', 'Hu', 'yh3398', 'P026A')],\n",
       "  [('Anqi', 'Jiang', 'aj3039', 'P026A')]],\n",
       " 'P026B': [[('Sanchitha', 'Balasubramanian', 'sb3610', 'P026B')]],\n",
       " 'P031': [[('Michael', 'Wu', 'mw3555', 'P031')],\n",
       "  [('Fei', 'Luan', 'fl2595', 'P031')],\n",
       "  [('Lefan', 'Mei', 'lm3657', 'P031')],\n",
       "  [('Ziqi', 'Yao', 'zy2497', 'P031')],\n",
       "  [('Yao', 'Sun', 'ys3504', 'P031')]],\n",
       " 'P035A': [[('Meixi', 'Chen', 'mc5092', 'P035A')],\n",
       "  [('Ashwani', 'Varshney', 'av3018', 'P035A')],\n",
       "  [('Yingxiang', 'Zheng', 'yz4133', 'P035A')],\n",
       "  [('Xuanyu', 'Li', 'xl3116', 'P035A')],\n",
       "  [('Ze Yu', 'Zhao', 'zz2873', 'P035A')],\n",
       "  [('Zixuan', 'Luo', 'zl2537', 'P035A')],\n",
       "  [('Ziqin', 'Xu', 'zx2371', 'P035A')]],\n",
       " 'P035B': [[('Minjae', 'Park', 'mp4036', 'P035B')],\n",
       "  [('Matthew', 'Yang', 'mhy2116', 'P035B')],\n",
       "  [('Yan', 'Yu', 'yy3184', 'P035B')],\n",
       "  [('Neerbhaya', 'J B Rana', 'nsj2117', 'P035B')],\n",
       "  [('Xi', 'Zhao', 'xz3068', 'P035B')],\n",
       "  [('Wenjun', 'Luo', 'wl2825', 'P035B')]],\n",
       " 'P035C': [[('Steve', 'Antony', 'sja2172', 'P035C')],\n",
       "  [('Jinrui', 'Zheng', 'jz3411', 'P035C')],\n",
       "  [('Shiyu', 'Li', 'sl4997', 'P035C')],\n",
       "  [('Morane', 'Elbaz', 'me2763', 'P035C')],\n",
       "  [('Yuanrong', 'Li', 'yl4848', 'P035C')],\n",
       "  [('Kaushali', 'Patel', 'kp2939', 'P035C')]],\n",
       " 'P036': [[('Caitlin', 'Pearson', 'cp3225', 'P036')],\n",
       "  [('Joel', 'Puterman', 'jup2103', 'P036')],\n",
       "  [('Zihan', 'Li', 'zl3093', 'P036')],\n",
       "  [('Yihao', 'Li', 'yl4884', 'P036')]],\n",
       " 'P040': [[('Nan', 'Wu', 'nw2482', 'P040')],\n",
       "  [('Tongxin', 'Liu', 'tl3103', 'P040')],\n",
       "  [('Kexin', 'Zhang', 'kz2404', 'P040')],\n",
       "  [('Ruying', 'Wang', 'rw2906', 'P040')],\n",
       "  [('Ruiqi', 'Mao', 'rm3878', 'P040')],\n",
       "  [('Huanyue', 'Liu', 'hl3513', 'P040')],\n",
       "  [('Xiaodan', 'Zhang', 'xz3058', 'P040')]],\n",
       " 'P042': [[('Yimeng', 'Hua', 'yh3434', 'P042')],\n",
       "  [('Yu', 'Bai', 'yb2524', 'P042')],\n",
       "  [('Zihao', 'Wei', 'zw2787', 'P042')],\n",
       "  [('Harsh', 'Madaan', 'hm2896', 'P042')],\n",
       "  [('Zhihui', 'Guo', 'zg2415', 'P042')],\n",
       "  [('Jong Yeong', 'Jung', 'jj3207', 'P042')]],\n",
       " 'P052': [[('Sai venkat', 'Vallabhaneni', 'sv2667', 'P052')],\n",
       "  [('Jiarui', 'Bi', 'jb4503', 'P052')],\n",
       "  [('Weige', 'He', 'wh2502', 'P052')],\n",
       "  [('Shawn', 'Olcese', 'sho2113', 'P052')]]}"
      ]
     },
     "execution_count": 134,
     "metadata": {},
     "output_type": "execute_result"
    }
   ],
   "source": [
    "project_student_assignment"
   ]
  },
  {
   "cell_type": "code",
   "execution_count": 121,
   "id": "c450dff3",
   "metadata": {},
   "outputs": [],
   "source": [
    "st_list = list()\n",
    "with open(\"static/MSBA_students.csv\",'r') as f:    \n",
    "    for line in f:\n",
    "        line = line.strip()\n",
    "        line = line.split(',')\n",
    "        \n",
    "        if line[0]==\"First Name\":\n",
    "            continue\n",
    "        fname = line[0].strip()\n",
    "        lname = line[1].strip()\n",
    "        uni = line[4].strip()\n",
    "        if uni in section1:\n",
    "            project = project_student_assignment[uni]\n",
    "            st_list.append((fname,lname,uni,project))\n",
    "\n"
   ]
  },
  {
   "cell_type": "code",
   "execution_count": 122,
   "id": "4d4724b3",
   "metadata": {},
   "outputs": [
    {
     "data": {
      "text/plain": [
       "[('Nour', 'Almusa', 'na2935', 'P022'),\n",
       " ('Khalid', 'Alsugair', 'kfa2118', 'P021'),\n",
       " ('Georgios', 'Andreadis', 'ga2575', 'P021'),\n",
       " ('Steve', 'Antony', 'sja2172', 'P035C'),\n",
       " ('Yu', 'Bai', 'yb2524', 'P042'),\n",
       " ('Sanchitha', 'Balasubramanian', 'sb3610', 'P026B'),\n",
       " ('Jiarui', 'Bi', 'jb4503', 'P052'),\n",
       " ('Meixi', 'Chen', 'mc5092', 'P035A'),\n",
       " ('Andy L', 'Chen', 'ac4952', 'P021'),\n",
       " ('Jingjing', 'Cui', 'jc5625', 'P026A'),\n",
       " ('Tian', 'Dai', 'td2702', 'P003'),\n",
       " ('Morane', 'Elbaz', 'me2763', 'P035C'),\n",
       " ('Qiming', 'Feng', 'qf2155', 'P024'),\n",
       " ('Ge', 'Gao', 'gg2797', 'P014'),\n",
       " ('Victoria', 'Gonzalez', 'veg2114', 'P021'),\n",
       " ('Yu', 'Gu', 'yg2831', 'P014'),\n",
       " ('Zhihui', 'Guo', 'zg2415', 'P042'),\n",
       " ('Jianzhi', 'Guo', 'jg4404', 'P011'),\n",
       " ('Muhammad Usman', 'Hamid', 'mh4197', 'P022'),\n",
       " ('Weige', 'He', 'wh2502', 'P052'),\n",
       " ('Yuxin', 'He', 'yh3408', 'P017'),\n",
       " ('Faye', 'Ho', 'fh2422', 'P011'),\n",
       " ('Yifei', 'Hu', 'yh3398', 'P026A'),\n",
       " ('I-Chiao', 'Hu', 'ih2382', 'P015'),\n",
       " ('Yimeng', 'Hua', 'yh3434', 'P042'),\n",
       " ('Neerbhaya', 'J B Rana', 'nsj2117', 'P035B'),\n",
       " ('Varun', 'Jadcherla', 'vrj2110', 'P011'),\n",
       " ('Alexandrea', 'Jee', 'amj2210', 'P022'),\n",
       " ('Anqi', 'Jiang', 'aj3039', 'P026A'),\n",
       " ('Jong Yeong', 'Jung', 'jj3207', 'P042'),\n",
       " ('Ojesvi Chandrsekharendra', 'Kanumuri', 'ok2316', 'P022'),\n",
       " ('Mary', 'Kiangi', 'mdk2170', 'P017'),\n",
       " ('Kennis', 'Kong', 'kk3513', 'P005'),\n",
       " ('Domitille', 'Labaye', 'dbl2134', 'P022'),\n",
       " ('Yihao', 'Li', 'yl4884', 'P036'),\n",
       " ('Zihan', 'Li', 'zl3093', 'P036'),\n",
       " ('Xuanyu', 'Li', 'xl3116', 'P035A'),\n",
       " ('Yuanrong', 'Li', 'yl4848', 'P035C'),\n",
       " ('Shiyu', 'Li', 'sl4997', 'P035C'),\n",
       " ('Tongxin', 'Liu', 'tl3103', 'P040'),\n",
       " ('Huanyue', 'Liu', 'hl3513', 'P040'),\n",
       " ('Ziyi', 'Liu', 'zl3110', 'P011'),\n",
       " ('Jiarun', 'Liu', 'jl5817', 'P026A'),\n",
       " ('Fei', 'Luan', 'fl2595', 'P031'),\n",
       " ('Zixuan', 'Luo', 'zl2537', 'P035A'),\n",
       " ('Wenjun', 'Luo', 'wl2825', 'P035B'),\n",
       " ('Yiyang', 'Luo', 'yl4844', 'P024'),\n",
       " ('Bohan', 'Ma', 'bm2972', 'P005'),\n",
       " ('Harsh', 'Madaan', 'hm2896', 'P042'),\n",
       " ('Demetra', 'Mallios', 'dm3689', 'P003'),\n",
       " ('Ruiqi', 'Mao', 'rm3878', 'P040'),\n",
       " ('Francesca', 'McWilliams', 'fsm2128', 'P021'),\n",
       " ('Lefan', 'Mei', 'lm3657', 'P031'),\n",
       " ('Sophia', 'Nikhar', 'sn2949', 'P015'),\n",
       " ('Yasmina', 'Noueihed', 'yan2104', 'P014'),\n",
       " ('Shawn', 'Olcese', 'sho2113', 'P052'),\n",
       " ('Liangyu', 'Pan', 'lp2932', 'P011'),\n",
       " ('Minjae', 'Park', 'mp4036', 'P035B'),\n",
       " ('Kaushali', 'Patel', 'kp2939', 'P035C'),\n",
       " ('Caitlin', 'Pearson', 'cp3225', 'P036'),\n",
       " ('Joel', 'Puterman', 'jup2103', 'P036'),\n",
       " ('Yutian', 'Qiu', 'yq2334', 'P014'),\n",
       " ('Yiyao', 'Qu', 'yq2331', 'P017'),\n",
       " ('Shane', 'Reid', 'sr3848', 'P005'),\n",
       " ('Chenxi', 'Su', 'cs4096', 'P015'),\n",
       " ('Yao', 'Sun', 'ys3504', 'P031'),\n",
       " ('Hemin', 'Tan', 'ht2571', 'P017'),\n",
       " ('Sai venkat', 'Vallabhaneni', 'sv2667', 'P052'),\n",
       " ('Ashwani', 'Varshney', 'av3018', 'P035A'),\n",
       " ('Harish', 'Vatsen', 'hv2228', 'P005'),\n",
       " ('Richard', 'Vrioni', 'rv2460', 'P007'),\n",
       " ('Zeyu', 'Wang', 'zw2775', 'P003'),\n",
       " ('Wenwen', 'Wang', 'ww2617', 'P011'),\n",
       " ('Kate', 'Wang', 'kzw2106', 'P015'),\n",
       " ('Ruying', 'Wang', 'rw2906', 'P040'),\n",
       " ('Yifan', 'Wang', 'yw3242', 'P005'),\n",
       " ('Zihao', 'Wei', 'zw2787', 'P042'),\n",
       " ('Guo Xuan', 'Wong', 'gw2439', 'P005'),\n",
       " ('Michael', 'Wu', 'mw3555', 'P031'),\n",
       " ('Nan', 'Wu', 'nw2482', 'P040'),\n",
       " ('Han', 'Xiao', 'hx2322', 'P024'),\n",
       " ('Yi', 'Xiao', 'yx2530', 'P024'),\n",
       " ('Manting', 'Xiong', 'mx2259', 'P017'),\n",
       " ('Zhensheng', 'Xu', 'zx2367', 'P003'),\n",
       " ('Ziqin', 'Xu', 'zx2371', 'P035A'),\n",
       " ('Linfeng', 'Xu', 'lx2287', 'P024'),\n",
       " ('Shuning', 'Yang', 'sy3018', 'P003'),\n",
       " ('Matthew', 'Yang', 'mhy2116', 'P035B'),\n",
       " ('Ziqi', 'Yao', 'zy2497', 'P031'),\n",
       " ('Yan', 'Yu', 'yy3184', 'P035B'),\n",
       " ('Hanrui', 'Yu', 'hy2716', 'P015'),\n",
       " ('Yiwen', 'Zhang', 'yz4153', 'P026A'),\n",
       " ('Kexin', 'Zhang', 'kz2404', 'P040'),\n",
       " ('Xiaodan', 'Zhang', 'xz3058', 'P040'),\n",
       " ('Ze Yu', 'Zhao', 'zz2873', 'P035A'),\n",
       " ('Xi', 'Zhao', 'xz3068', 'P035B'),\n",
       " ('Sai', 'Zheng', 'sz3026', 'P017'),\n",
       " ('Yingxiang', 'Zheng', 'yz4133', 'P035A'),\n",
       " ('Jinrui', 'Zheng', 'jz3411', 'P035C'),\n",
       " ('Yue', 'Zou', 'yz4200', 'P014')]"
      ]
     },
     "execution_count": 122,
     "metadata": {},
     "output_type": "execute_result"
    }
   ],
   "source": [
    "sorted(st_list,key=lambda x: x[1])"
   ]
  },
  {
   "cell_type": "code",
   "execution_count": null,
   "id": "13fd8a8c",
   "metadata": {},
   "outputs": [],
   "source": []
  }
 ],
 "metadata": {
  "kernelspec": {
   "display_name": "Python 3 (ipykernel)",
   "language": "python",
   "name": "python3"
  },
  "language_info": {
   "codemirror_mode": {
    "name": "ipython",
    "version": 3
   },
   "file_extension": ".py",
   "mimetype": "text/x-python",
   "name": "python",
   "nbconvert_exporter": "python",
   "pygments_lexer": "ipython3",
   "version": "3.9.7"
  },
  "toc": {
   "base_numbering": 1,
   "nav_menu": {},
   "number_sections": true,
   "sideBar": true,
   "skip_h1_title": false,
   "title_cell": "Table of Contents",
   "title_sidebar": "Contents",
   "toc_cell": false,
   "toc_position": {},
   "toc_section_display": true,
   "toc_window_display": false
  }
 },
 "nbformat": 4,
 "nbformat_minor": 5
}
