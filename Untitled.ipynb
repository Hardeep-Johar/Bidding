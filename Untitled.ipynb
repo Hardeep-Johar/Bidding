{
 "cells": [
  {
   "cell_type": "code",
   "execution_count": 1,
   "metadata": {},
   "outputs": [],
   "source": [
    "input_file = \"static/Roster_2022.csv\"\n",
    "output_file = \"static/adjusted_roster_2022.csv\""
   ]
  },
  {
   "cell_type": "code",
   "execution_count": 15,
   "metadata": {},
   "outputs": [],
   "source": [
    "with open(input_file,\"r\") as f:\n",
    "    data = f.readlines()\n",
    "new_data=list()\n",
    "for line in data:\n",
    "    line = line.strip().split(\",\")\n",
    "    line = [line[2],line[3],line[0],\"\",line[1],line[5],\"SEAS\",\"G01\",line[4],\"3.00\"]\n",
    "    line = \",\".join(line)\n",
    "    new_data.append(line)\n",
    "with open(output_file,\"w\") as f:\n",
    "    for line in new_data:\n",
    "        f.write(line+\"\\n\")"
   ]
  },
  {
   "cell_type": "code",
   "execution_count": 7,
   "metadata": {},
   "outputs": [
    {
     "name": "stdout",
     "output_type": "stream",
     "text": [
      "First Name,Last Name,UNI,PID,Program,CU Email\r",
      "\r\n",
      "Benjamin,Byeon,bb3037,C004465866,MSBA,bb3037@columbia.edu\r",
      "\r\n",
      "Yiling,Zhang,yz4306,C004630189,MSBA,yz4306@columbia.edu\r",
      "\r\n",
      "Yifei,Li,yl5122,C004503141,MSBA,yl5122@columbia.edu\r",
      "\r\n",
      "Jielin,Mao,jm5478,C004648910,MSBA,jm5478@columbia.edu\r",
      "\r\n",
      "Anqi,He,ah3354,C004006022,MSBA,ah3354@columbia.edu\r",
      "\r\n",
      "Stephanie,Guo,sg3408,C004083976,MSBA,sg3408@columbia.edu\r",
      "\r\n",
      "Zixuan,Zhang,zz2979,C004651314,MSBA,zz2979@columbia.edu\r",
      "\r\n",
      "Yueru,He,yh3507,C004654785,MSBA,yh3507@columbia.edu\r",
      "\r\n",
      "Zunke,Ma,zm2403,C004641622,MSBA,zm2403@columbia.edu\r",
      "\r\n"
     ]
    }
   ],
   "source": [
    "!head static/Roster_2022.csv"
   ]
  },
  {
   "cell_type": "code",
   "execution_count": 16,
   "metadata": {},
   "outputs": [
    {
     "name": "stdout",
     "output_type": "stream",
     "text": [
      "UNI,PID,First Name,,Last Name,CU Email,SEAS,G01,Program,3.00\r\n",
      "bb3037,C004465866,Benjamin,,Byeon,bb3037@columbia.edu,SEAS,G01,MSBA,3.00\r\n",
      "yz4306,C004630189,Yiling,,Zhang,yz4306@columbia.edu,SEAS,G01,MSBA,3.00\r\n",
      "yl5122,C004503141,Yifei,,Li,yl5122@columbia.edu,SEAS,G01,MSBA,3.00\r\n",
      "jm5478,C004648910,Jielin,,Mao,jm5478@columbia.edu,SEAS,G01,MSBA,3.00\r\n",
      "ah3354,C004006022,Anqi,,He,ah3354@columbia.edu,SEAS,G01,MSBA,3.00\r\n",
      "sg3408,C004083976,Stephanie,,Guo,sg3408@columbia.edu,SEAS,G01,MSBA,3.00\r\n",
      "zz2979,C004651314,Zixuan,,Zhang,zz2979@columbia.edu,SEAS,G01,MSBA,3.00\r\n",
      "yh3507,C004654785,Yueru,,He,yh3507@columbia.edu,SEAS,G01,MSBA,3.00\r\n",
      "zm2403,C004641622,Zunke,,Ma,zm2403@columbia.edu,SEAS,G01,MSBA,3.00\r\n"
     ]
    }
   ],
   "source": [
    "!head static/adjusted_roster_2022.csv"
   ]
  },
  {
   "cell_type": "code",
   "execution_count": 17,
   "metadata": {},
   "outputs": [
    {
     "name": "stdout",
     "output_type": "stream",
     "text": [
      "     183     201   12856 static/adjusted_roster_2022.csv\r\n"
     ]
    }
   ],
   "source": [
    "!wc static/adjusted_roster_2022.csv"
   ]
  },
  {
   "cell_type": "code",
   "execution_count": 26,
   "metadata": {},
   "outputs": [],
   "source": [
    "with open(\"static/projects_spring2023.csv\",\"w\") as f:\n",
    "    for counter in range(1,52):\n",
    "        pid = \"P0%02d\"%counter\n",
    "        f.write(pid+\"\\n\")"
   ]
  },
  {
   "cell_type": "code",
   "execution_count": 25,
   "metadata": {},
   "outputs": [
    {
     "name": "stdout",
     "output_type": "stream",
     "text": [
      "P01\n",
      "P02\n",
      "P03\n",
      "P04\n",
      "P05\n",
      "P06\n",
      "P07\n",
      "P08\n",
      "P09\n",
      "P10\n",
      "P11\n",
      "P12\n",
      "P13\n",
      "P14\n",
      "P15\n",
      "P16\n",
      "P17\n",
      "P18\n",
      "P19\n",
      "P20\n",
      "P21\n",
      "P22\n",
      "P23\n",
      "P24\n",
      "P25\n",
      "P26\n",
      "P27\n",
      "P28\n",
      "P29\n",
      "P30\n",
      "P31\n",
      "P32\n",
      "P33\n",
      "P34\n",
      "P35\n",
      "P36\n",
      "P37\n",
      "P38\n",
      "P39\n",
      "P40\n",
      "P41\n",
      "P42\n",
      "P43\n",
      "P44\n",
      "P45\n",
      "P46\n",
      "P47\n",
      "P48\n",
      "P49\n",
      "P50\n",
      "P51\n"
     ]
    }
   ],
   "source": [
    "    for counter in range(1,52):\n",
    "        pid = \"P%002d\"%counter\n",
    "        print(pid)"
   ]
  },
  {
   "cell_type": "code",
   "execution_count": null,
   "metadata": {},
   "outputs": [],
   "source": []
  }
 ],
 "metadata": {
  "kernelspec": {
   "display_name": "Python 3 (ipykernel)",
   "language": "python",
   "name": "python3"
  },
  "language_info": {
   "codemirror_mode": {
    "name": "ipython",
    "version": 3
   },
   "file_extension": ".py",
   "mimetype": "text/x-python",
   "name": "python",
   "nbconvert_exporter": "python",
   "pygments_lexer": "ipython3",
   "version": "3.9.7"
  },
  "toc": {
   "base_numbering": 1,
   "nav_menu": {},
   "number_sections": true,
   "sideBar": true,
   "skip_h1_title": false,
   "title_cell": "Table of Contents",
   "title_sidebar": "Contents",
   "toc_cell": false,
   "toc_position": {},
   "toc_section_display": true,
   "toc_window_display": false
  }
 },
 "nbformat": 4,
 "nbformat_minor": 4
}
